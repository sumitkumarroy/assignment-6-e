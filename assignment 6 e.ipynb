{
 "cells": [
  {
   "cell_type": "code",
   "execution_count": 1,
   "id": "fd66d888",
   "metadata": {},
   "outputs": [
    {
     "data": {
      "text/plain": [
       "\"\\nQ1. Explain GET and POST methods.\\nGET Method:\\n\\nUsage: Used to request data from a specified resource.\\nData in URL: Parameters are sent in the URL.\\nVisibility: Data is visible to everyone (in the URL).\\nCaching: Can be cached and bookmarked.\\nSafe: Considered safe because it doesn't modify data.\\nExample: Used when loading a web page, submitting search queries.\\nPOST Method:\\n\\nUsage: Used to send data to a server to create/update a resource.\\nData in Body: Parameters are sent in the request body.\\nVisibility: Data is not visible in the URL.\\nNot Cached: Cannot be cached and bookmarked.\\nNot Safe: Not considered safe because it can modify data.\\nExample: Used when submitting forms, uploading files, sending sensitive data.\\n\""
      ]
     },
     "execution_count": 1,
     "metadata": {},
     "output_type": "execute_result"
    }
   ],
   "source": [
    "'''\n",
    "Q1. Explain GET and POST methods.\n",
    "GET Method:\n",
    "\n",
    "Usage: Used to request data from a specified resource.\n",
    "Data in URL: Parameters are sent in the URL.\n",
    "Visibility: Data is visible to everyone (in the URL).\n",
    "Caching: Can be cached and bookmarked.\n",
    "Safe: Considered safe because it doesn't modify data.\n",
    "Example: Used when loading a web page, submitting search queries.\n",
    "POST Method:\n",
    "\n",
    "Usage: Used to send data to a server to create/update a resource.\n",
    "Data in Body: Parameters are sent in the request body.\n",
    "Visibility: Data is not visible in the URL.\n",
    "Not Cached: Cannot be cached and bookmarked.\n",
    "Not Safe: Not considered safe because it can modify data.\n",
    "Example: Used when submitting forms, uploading files, sending sensitive data.\n",
    "'''"
   ]
  },
  {
   "cell_type": "code",
   "execution_count": 2,
   "id": "08cc1499",
   "metadata": {},
   "outputs": [
    {
     "data": {
      "text/plain": [
       "\"\\nQ2. Why is request used in Flask?\\nrequest in Flask is used to access incoming request data such as form data, query parameters, files, and more. It provides an easy way to handle data sent from the client to the server.\\n\\nUsage:\\n\\nAccess form data: request.form['key']\\nAccess query parameters: request.args.get('key')\\nAccess uploaded files: request.files['file']\\nAccess JSON data: request.json\\n\\n\""
      ]
     },
     "execution_count": 2,
     "metadata": {},
     "output_type": "execute_result"
    }
   ],
   "source": [
    "'''\n",
    "Q2. Why is request used in Flask?\n",
    "request in Flask is used to access incoming request data such as form data, query parameters, files, and more. It provides an easy way to handle data sent from the client to the server.\n",
    "\n",
    "Usage:\n",
    "\n",
    "Access form data: request.form['key']\n",
    "Access query parameters: request.args.get('key')\n",
    "Access uploaded files: request.files['file']\n",
    "Access JSON data: request.json\n",
    "\n",
    "'''"
   ]
  },
  {
   "cell_type": "code",
   "execution_count": 3,
   "id": "58335ceb",
   "metadata": {},
   "outputs": [
    {
     "data": {
      "text/plain": [
       "'\\nQ3. Why is redirect() used in Flask?\\nredirect() in Flask is used to redirect the user to a different route or URL. It is commonly used after processing form data to redirect the user to a different page or route based on the result.\\n\\nUsage:\\n\\nAfter a successful form submission, redirect to a \"success\" page.\\nRedirect the user after logging in.\\nRedirect the user after logging out.\\n'"
      ]
     },
     "execution_count": 3,
     "metadata": {},
     "output_type": "execute_result"
    }
   ],
   "source": [
    "'''\n",
    "Q3. Why is redirect() used in Flask?\n",
    "redirect() in Flask is used to redirect the user to a different route or URL. It is commonly used after processing form data to redirect the user to a different page or route based on the result.\n",
    "\n",
    "Usage:\n",
    "\n",
    "After a successful form submission, redirect to a \"success\" page.\n",
    "Redirect the user after logging in.\n",
    "Redirect the user after logging out.\n",
    "'''"
   ]
  },
  {
   "cell_type": "code",
   "execution_count": 4,
   "id": "13120771",
   "metadata": {},
   "outputs": [
    {
     "data": {
      "text/plain": [
       "'\\nQ4. What are templates in Flask? Why is the render_template() function used?\\nTemplates in Flask are HTML files that allow you to separate the presentation (HTML/CSS) from the business logic (Python code). Templates can contain placeholders that are dynamically replaced with data when the template is rendered.\\n\\nrender_template() function is used to render HTML templates in Flask. It takes the name of the template as an argument along with optional template variables, and then renders the template with the provided data.\\n\\nUsage:\\n\\nDisplay dynamic content in web pages.\\nMaintain a consistent layout across multiple pages.\\nPass data from Python code to HTML templates.\\n'"
      ]
     },
     "execution_count": 4,
     "metadata": {},
     "output_type": "execute_result"
    }
   ],
   "source": [
    "'''\n",
    "Q4. What are templates in Flask? Why is the render_template() function used?\n",
    "Templates in Flask are HTML files that allow you to separate the presentation (HTML/CSS) from the business logic (Python code). Templates can contain placeholders that are dynamically replaced with data when the template is rendered.\n",
    "\n",
    "render_template() function is used to render HTML templates in Flask. It takes the name of the template as an argument along with optional template variables, and then renders the template with the provided data.\n",
    "\n",
    "Usage:\n",
    "\n",
    "Display dynamic content in web pages.\n",
    "Maintain a consistent layout across multiple pages.\n",
    "Pass data from Python code to HTML templates.\n",
    "'''"
   ]
  },
  {
   "cell_type": "code",
   "execution_count": 5,
   "id": "05d4b71f",
   "metadata": {},
   "outputs": [
    {
     "name": "stdout",
     "output_type": "stream",
     "text": [
      " * Serving Flask app '__main__'\n",
      " * Debug mode: off\n"
     ]
    },
    {
     "name": "stderr",
     "output_type": "stream",
     "text": [
      "WARNING: This is a development server. Do not use it in a production deployment. Use a production WSGI server instead.\n",
      " * Running on http://127.0.0.1:5000\n",
      "Press CTRL+C to quit\n"
     ]
    }
   ],
   "source": [
    "'''\n",
    "\n",
    "Q5. Create a simple API. Use Postman to test it. Attach the screenshot of the output in the Jupyter Notebook.\n",
    "'''\n",
    "from flask import Flask, jsonify, request\n",
    "\n",
    "app = Flask(__name__)\n",
    "\n",
    "# Sample data\n",
    "products = [\n",
    "    {\"id\": 1, \"name\": \"Product 1\", \"price\": 10.99},\n",
    "    {\"id\": 2, \"name\": \"Product 2\", \"price\": 19.99},\n",
    "]\n",
    "\n",
    "# GET request to get all products\n",
    "@app.route('/api/products', methods=['GET'])\n",
    "def get_products():\n",
    "    return jsonify(products)\n",
    "\n",
    "# POST request to add a new product\n",
    "@app.route('/api/products', methods=['POST'])\n",
    "def add_product():\n",
    "    new_product = {\n",
    "        \"id\": len(products) + 1,\n",
    "        \"name\": request.json['name'],\n",
    "        \"price\": request.json['price']\n",
    "    }\n",
    "    products.append(new_product)\n",
    "    return jsonify({\"message\": \"Product added\", \"product\": new_product}), 201\n",
    "\n",
    "if __name__ == '__main__':\n",
    "    app.run()\n"
   ]
  },
  {
   "cell_type": "code",
   "execution_count": 6,
   "id": "42177643",
   "metadata": {},
   "outputs": [
    {
     "data": {
      "text/plain": [
       "{'name': 'New Product', 'price': 29.99}"
      ]
     },
     "execution_count": 6,
     "metadata": {},
     "output_type": "execute_result"
    }
   ],
   "source": [
    "{\n",
    "    \"name\": \"New Product\",\n",
    "    \"price\": 29.99\n",
    "}\n"
   ]
  },
  {
   "cell_type": "markdown",
   "id": "79e17300",
   "metadata": {},
   "source": []
  },
  {
   "cell_type": "code",
   "execution_count": null,
   "id": "3f559316",
   "metadata": {},
   "outputs": [],
   "source": []
  }
 ],
 "metadata": {
  "kernelspec": {
   "display_name": "Python 3 (ipykernel)",
   "language": "python",
   "name": "python3"
  },
  "language_info": {
   "codemirror_mode": {
    "name": "ipython",
    "version": 3
   },
   "file_extension": ".py",
   "mimetype": "text/x-python",
   "name": "python",
   "nbconvert_exporter": "python",
   "pygments_lexer": "ipython3",
   "version": "3.11.4"
  }
 },
 "nbformat": 4,
 "nbformat_minor": 5
}
